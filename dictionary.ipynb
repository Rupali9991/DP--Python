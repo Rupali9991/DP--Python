{
 "cells": [
  {
   "attachments": {},
   "cell_type": "markdown",
   "metadata": {},
   "source": [
    "- ### dictionary\n",
    "    - ordered\n",
    "    - mutable\n",
    "    - heterogeneous (data stored in key value pair)\n",
    "        - keys are immutable and unique\n",
    "        - value can be mutable or immutable and can be duplicate and have any type \n",
    "    - unindexed (data cannot be accessed using 1,2,...)\n",
    "    - represented by '{}'\n",
    "    - 'dict()' that can take key value pair as argument"
   ]
  },
  {
   "cell_type": "code",
   "execution_count": 18,
   "metadata": {},
   "outputs": [],
   "source": [
    "# creating dictionary\n",
    "fruits = {\n",
    "    'apples':2,\n",
    "    'banana' : 3,\n",
    "    'orange' : 5\n",
    "}"
   ]
  },
  {
   "cell_type": "code",
   "execution_count": 19,
   "metadata": {},
   "outputs": [],
   "source": [
    "grocery = {\n",
    "    'fruits':['apple','banana','orange','grape'],\n",
    "    'vegetables': ['carrot', 'lettuce','onion'],\n",
    "    'dairy': ['milk','cheese','yogurt'],\n",
    "    'meat': None\n",
    "}"
   ]
  },
  {
   "cell_type": "code",
   "execution_count": 20,
   "metadata": {},
   "outputs": [],
   "source": [
    "reports = {\n",
    "    'rajesh':{\n",
    "        'English':90,\n",
    "        'Math': 80,\n",
    "        'Science':70\n",
    "    },\n",
    "    'suresh':{\n",
    "        'English':80,\n",
    "        'Math': 70,\n",
    "        'Science':60\n",
    "    }\n",
    "}"
   ]
  },
  {
   "cell_type": "code",
   "execution_count": 21,
   "metadata": {},
   "outputs": [
    {
     "name": "stdout",
     "output_type": "stream",
     "text": [
      "{'apples': 2, 'banana': 3, 'orange': 5}\n",
      "{'fruits': ['apple', 'banana', 'orange', 'grape'], 'vegetables': ['carrot', 'lettuce', 'onion'], 'dairy': ['milk', 'cheese', 'yogurt'], 'meat': None}\n",
      "{'rajesh': {'English': 90, 'Math': 80, 'Science': 70}, 'suresh': {'English': 80, 'Math': 70, 'Science': 60}}\n"
     ]
    }
   ],
   "source": [
    "print(fruits)\n",
    "print(grocery)\n",
    "print(reports)"
   ]
  },
  {
   "cell_type": "code",
   "execution_count": 22,
   "metadata": {},
   "outputs": [],
   "source": [
    "from pprint import pp"
   ]
  },
  {
   "cell_type": "code",
   "execution_count": 23,
   "metadata": {},
   "outputs": [
    {
     "name": "stdout",
     "output_type": "stream",
     "text": [
      "{'apples': 2, 'banana': 3, 'orange': 5}\n",
      "{'fruits': ['apple', 'banana', 'orange', 'grape'], 'vegetables': ['carrot', 'lettuce', 'onion'], 'dairy': ['milk', 'cheese', 'yogurt'], 'meat': None}\n",
      "{'rajesh': {'English': 90, 'Math': 80, 'Science': 70}, 'suresh': {'English': 80, 'Math': 70, 'Science': 60}}\n"
     ]
    }
   ],
   "source": [
    "print(fruits)\n",
    "print(grocery)\n",
    "print(reports)"
   ]
  },
  {
   "attachments": {},
   "cell_type": "markdown",
   "metadata": {},
   "source": [
    "- fetch\n",
    "- updating\n",
    "- adding\n",
    "- deleting"
   ]
  },
  {
   "cell_type": "code",
   "execution_count": 24,
   "metadata": {},
   "outputs": [
    {
     "data": {
      "text/plain": [
       "2"
      ]
     },
     "execution_count": 24,
     "metadata": {},
     "output_type": "execute_result"
    }
   ],
   "source": [
    "fruits['apples'] # data fetch/retrieve"
   ]
  },
  {
   "cell_type": "code",
   "execution_count": 25,
   "metadata": {},
   "outputs": [
    {
     "name": "stdout",
     "output_type": "stream",
     "text": [
      "{'apples': 10, 'banana': 3, 'orange': 5}\n"
     ]
    }
   ],
   "source": [
    "fruits['apples']=10 # updating the new value\n",
    "pp(fruits)"
   ]
  },
  {
   "cell_type": "code",
   "execution_count": 26,
   "metadata": {},
   "outputs": [
    {
     "name": "stdout",
     "output_type": "stream",
     "text": [
      "{'apples': 10, 'banana': 3, 'orange': 5, 'mango': 25}\n"
     ]
    }
   ],
   "source": [
    "fruits['mango']=25 # adding a new key-value pair\n",
    "pp(fruits)"
   ]
  },
  {
   "cell_type": "code",
   "execution_count": 27,
   "metadata": {},
   "outputs": [
    {
     "name": "stdout",
     "output_type": "stream",
     "text": [
      "{'fruits': ['apple', 'banana', 'orange', 'grape'],\n",
      " 'vegetables': ['carrot', 'lettuce', 'onion'],\n",
      " 'dairy': ['milk', 'cheese', 'yogurt'],\n",
      " 'meat': None,\n",
      " 'spices': ['cumin', 'turmeric', 'coriander']}\n"
     ]
    }
   ],
   "source": [
    "grocery['spices']=['cumin','turmeric','coriander']\n",
    "pp(grocery)"
   ]
  },
  {
   "cell_type": "code",
   "execution_count": 30,
   "metadata": {},
   "outputs": [
    {
     "name": "stdout",
     "output_type": "stream",
     "text": [
      "{'fruits': ['apple', 'banana', 'orange', 'grape', 'mango', 'mango'],\n",
      " 'vegetables': ['carrot', 'lettuce', 'onion'],\n",
      " 'dairy': ['milk', 'cheese', 'yogurt'],\n",
      " 'meat': None,\n",
      " 'spices': ['cumin', 'turmeric', 'coriander']}\n"
     ]
    }
   ],
   "source": [
    "grocery['fruits'].append('mango')\n",
    "pp(grocery)"
   ]
  },
  {
   "cell_type": "code",
   "execution_count": 33,
   "metadata": {},
   "outputs": [
    {
     "name": "stdout",
     "output_type": "stream",
     "text": [
      "{'rajesh': {'English': 90, 'Math': 80, 'Science': 70, 'EVS': 99},\n",
      " 'suresh': {'English': 80, 'Math': 70, 'Science': 60}}\n"
     ]
    }
   ],
   "source": [
    "reports['rajesh']['EVS']=99 # adding new key value pair\n",
    "pp(reports)"
   ]
  },
  {
   "cell_type": "code",
   "execution_count": 34,
   "metadata": {},
   "outputs": [
    {
     "name": "stdout",
     "output_type": "stream",
     "text": [
      "{'rajesh': {'English': 90, 'Math': 80, 'Science': 70, 'EVS': 99},\n",
      " 'suresh': {'English': 84, 'Math': 70, 'Science': 60}}\n"
     ]
    }
   ],
   "source": [
    "reports['suresh']['English']=84 #updating value\n",
    "pp(reports)"
   ]
  },
  {
   "cell_type": "code",
   "execution_count": 35,
   "metadata": {},
   "outputs": [
    {
     "data": {
      "text/plain": [
       "3"
      ]
     },
     "execution_count": 35,
     "metadata": {},
     "output_type": "execute_result"
    }
   ],
   "source": [
    "fruits.pop('banana')#remove key value pair from dictionary"
   ]
  },
  {
   "cell_type": "code",
   "execution_count": 36,
   "metadata": {},
   "outputs": [
    {
     "data": {
      "text/plain": [
       "{'English': 90, 'Math': 80, 'Science': 70, 'EVS': 99}"
      ]
     },
     "execution_count": 36,
     "metadata": {},
     "output_type": "execute_result"
    }
   ],
   "source": [
    "reports.pop('rajesh') #remove key value pair from dictionary "
   ]
  },
  {
   "cell_type": "code",
   "execution_count": 37,
   "metadata": {},
   "outputs": [
    {
     "data": {
      "text/plain": [
       "{'suresh': {'English': 84, 'Math': 70, 'Science': 60}}"
      ]
     },
     "execution_count": 37,
     "metadata": {},
     "output_type": "execute_result"
    }
   ],
   "source": [
    "reports"
   ]
  },
  {
   "cell_type": "code",
   "execution_count": 38,
   "metadata": {},
   "outputs": [
    {
     "name": "stdout",
     "output_type": "stream",
     "text": [
      "{'fruits': ['apple', 'banana', 'orange', 'grape', 'mango', 'mango'],\n",
      " 'vegetables': ['carrot', 'lettuce', 'onion'],\n",
      " 'dairy': ['milk', 'cheese', 'yogurt'],\n",
      " 'meat': None,\n",
      " 'spices': ['cumin', 'turmeric', 'coriander']}\n"
     ]
    }
   ],
   "source": [
    "pp(grocery)"
   ]
  },
  {
   "cell_type": "code",
   "execution_count": 39,
   "metadata": {},
   "outputs": [],
   "source": [
    "grocery['vegetables'].remove('onion') #remove value from list"
   ]
  },
  {
   "cell_type": "code",
   "execution_count": 40,
   "metadata": {},
   "outputs": [
    {
     "data": {
      "text/plain": [
       "dict_items([('apples', 10), ('orange', 5), ('mango', 25)])"
      ]
     },
     "execution_count": 40,
     "metadata": {},
     "output_type": "execute_result"
    }
   ],
   "source": [
    "fruits.keys() #get all key from dictionary\n",
    "fruits.values() #get all values from dictionary\n",
    "fruits.items() #get all key-value pairs from dictionary\n"
   ]
  },
  {
   "cell_type": "code",
   "execution_count": 41,
   "metadata": {},
   "outputs": [],
   "source": [
    "# traversal"
   ]
  },
  {
   "cell_type": "code",
   "execution_count": 42,
   "metadata": {},
   "outputs": [
    {
     "name": "stdout",
     "output_type": "stream",
     "text": [
      "apples 10\n",
      "orange 5\n",
      "mango 25\n"
     ]
    }
   ],
   "source": [
    "for k,v in fruits.items(): # printing key-value pairs\n",
    "    print(k,v)"
   ]
  },
  {
   "cell_type": "code",
   "execution_count": 43,
   "metadata": {},
   "outputs": [
    {
     "name": "stdout",
     "output_type": "stream",
     "text": [
      "suresh {'English': 84, 'Math': 70, 'Science': 60}\n"
     ]
    }
   ],
   "source": [
    "for k,v in reports.items():\n",
    "    print(k,v)"
   ]
  },
  {
   "cell_type": "code",
   "execution_count": 44,
   "metadata": {},
   "outputs": [
    {
     "name": "stdout",
     "output_type": "stream",
     "text": [
      "fruits ['apple', 'banana', 'orange', 'grape', 'mango', 'mango']\n",
      "vegetables ['carrot', 'lettuce']\n",
      "dairy ['milk', 'cheese', 'yogurt']\n",
      "meat None\n",
      "spices ['cumin', 'turmeric', 'coriander']\n"
     ]
    }
   ],
   "source": [
    "for k,v in grocery.items():\n",
    "    print(k,v)"
   ]
  },
  {
   "cell_type": "code",
   "execution_count": 45,
   "metadata": {},
   "outputs": [
    {
     "data": {
      "text/plain": [
       "84"
      ]
     },
     "execution_count": 45,
     "metadata": {},
     "output_type": "execute_result"
    }
   ],
   "source": [
    "reports['suresh']['English']"
   ]
  },
  {
   "cell_type": "code",
   "execution_count": 47,
   "metadata": {},
   "outputs": [
    {
     "data": {
      "text/plain": [
       "{'English': 84, 'Math': 70, 'Science': 60}"
      ]
     },
     "execution_count": 47,
     "metadata": {},
     "output_type": "execute_result"
    }
   ],
   "source": [
    "reports.get('suresh') #data fetching from dictionary"
   ]
  },
  {
   "cell_type": "code",
   "execution_count": 49,
   "metadata": {},
   "outputs": [
    {
     "data": {
      "text/plain": [
       "'ye student kabhi aaya hi nhi'"
      ]
     },
     "execution_count": 49,
     "metadata": {},
     "output_type": "execute_result"
    }
   ],
   "source": [
    "reports.get('ramesh','ye student kabhi aaya hi nhi')"
   ]
  },
  {
   "cell_type": "code",
   "execution_count": 50,
   "metadata": {},
   "outputs": [
    {
     "data": {
      "text/plain": [
       "{'English': 84, 'Math': 70, 'Science': 60}"
      ]
     },
     "execution_count": 50,
     "metadata": {},
     "output_type": "execute_result"
    }
   ],
   "source": [
    "reports.get('suresh','ye student  kabhi aaya hi nhi')"
   ]
  },
  {
   "cell_type": "code",
   "execution_count": 52,
   "metadata": {},
   "outputs": [
    {
     "name": "stdout",
     "output_type": "stream",
     "text": [
      "{'suresh': {'English': 84, 'Math': 70, 'Science': 60},\n",
      " 'sunita': {'English': 90, 'Math': 80, 'Science': 70}}\n"
     ]
    }
   ],
   "source": [
    "reports['sunita']={\n",
    "    'English':90,\n",
    "    'Math': 80,\n",
    "    'Science': 70\n",
    "}\n",
    "\n",
    "pp(reports)"
   ]
  },
  {
   "cell_type": "code",
   "execution_count": 53,
   "metadata": {},
   "outputs": [
    {
     "name": "stdout",
     "output_type": "stream",
     "text": [
      "suresh\n",
      "84 in English\n",
      "70 in Math\n",
      "60 in Science\n",
      "------------------------------\n",
      "sunita\n",
      "90 in English\n",
      "80 in Math\n",
      "70 in Science\n",
      "------------------------------\n"
     ]
    }
   ],
   "source": [
    "for student, details in reports.items():\n",
    "    print(student)\n",
    "    for subject, marks in details.items():\n",
    "        print(f'{marks} in {subject}')\n",
    "    print('---'*10)"
   ]
  },
  {
   "attachments": {},
   "cell_type": "markdown",
   "metadata": {},
   "source": [
    "# create a dictionary of 5 employees with details\n",
    "    - name:str\n",
    "    - department:str\n",
    "    - salary:int\n",
    "    - skills: list\n",
    "    - projects:dict\n",
    "        -project_name:str,\n",
    "        -project_duration:int\n",
    "        -project_technologies:list"
   ]
  },
  {
   "cell_type": "code",
   "execution_count": 54,
   "metadata": {},
   "outputs": [
    {
     "name": "stdout",
     "output_type": "stream",
     "text": [
      "{'e1': {'name': 'Alex',\n",
      "        'department': 'HR',\n",
      "        'salary': 10000,\n",
      "        'skills': ['communication', 'project management'],\n",
      "        'projects': {'project1': {'project_name': 'HRMS',\n",
      "                                  'project_duration': 6,\n",
      "                                  'project_technology': ['excel',\n",
      "                                                         'power bi',\n",
      "                                                         'powerpoint']}}},\n",
      " 'e2': {'name': 'Alice',\n",
      "        'department': 'IT',\n",
      "        'salary': 20000,\n",
      "        'skills': ['communication', 'project management', 'team building'],\n",
      "        'projects': {'project2': {'project_name': 'Information Technology',\n",
      "                                  'project_duration': 8,\n",
      "                                  'project_technology': ['excel',\n",
      "                                                         'power bi',\n",
      "                                                         'powerpoint',\n",
      "                                                         'C',\n",
      "                                                         'SQL']}}},\n",
      " 'e3': {'name': 'John',\n",
      "        'department': 'Sales',\n",
      "        'salary': 40000,\n",
      "        'skills': ['communication', 'team building'],\n",
      "        'projects': {'project3': {'project_name': 'Client management',\n",
      "                                  'project_duration': 8,\n",
      "                                  'project_technology': ['excel',\n",
      "                                                         'power point']}}},\n",
      " 'e4': {'name': 'Alex',\n",
      "        'department': 'Business development',\n",
      "        'salary': 10000,\n",
      "        'skills': ['communication', 'project management', 'team building'],\n",
      "        'projects': {'project3': {'project_name': 'BD',\n",
      "                                  'project_duration': 3,\n",
      "                                  'project_technology': ['excel',\n",
      "                                                         'powerpoint']}}},\n",
      " 'e5': {'name': 'George',\n",
      "        'department': 'Marketing',\n",
      "        'salary': 50000,\n",
      "        'skills': ['communication',\n",
      "                   'project management',\n",
      "                   'team building',\n",
      "                   'digital marketing'],\n",
      "        'projects': {'project4': {'project_name': 'DM',\n",
      "                                  'project_duration': 9,\n",
      "                                  'project_technology': ['excel',\n",
      "                                                         'power point',\n",
      "                                                         'adobe']}}}}\n"
     ]
    }
   ],
   "source": [
    "employees = {\n",
    "    'e1': {\n",
    "        'name':'Alex',\n",
    "        'department':'HR',\n",
    "        'salary':10000,\n",
    "        'skills': ['communication', 'project management'],\n",
    "        'projects':{\n",
    "            'project1':{\n",
    "                'project_name': 'HRMS',\n",
    "                'project_duration':6,\n",
    "                'project_technology':['excel','power bi','powerpoint']\n",
    "            },\n",
    "        }\n",
    "    },\n",
    "    'e2': {\n",
    "        'name':'Alice',\n",
    "        'department':'IT',\n",
    "        'salary':20000,\n",
    "        'skills': ['communication', 'project management', 'team building'],\n",
    "        'projects':{\n",
    "            'project2':{\n",
    "                'project_name': 'Information Technology',\n",
    "                'project_duration':8,\n",
    "                'project_technology':['excel','power bi','powerpoint','C','SQL']\n",
    "            },\n",
    "        }\n",
    "    },\n",
    "    'e3': {\n",
    "        'name':'John',\n",
    "        'department':'Sales',\n",
    "        'salary':40000,\n",
    "        'skills': ['communication','team building'],\n",
    "        'projects':{\n",
    "            'project3':{\n",
    "                'project_name': 'Client management',\n",
    "                'project_duration':8,\n",
    "                'project_technology':['excel','power point']\n",
    "            },\n",
    "        }\n",
    "    },\n",
    "    'e4': {\n",
    "        'name':'Alex',\n",
    "        'department':'Business development',\n",
    "        'salary':10000,\n",
    "        'skills': ['communication', 'project management', 'team building'],\n",
    "        'projects':{\n",
    "            'project3':{\n",
    "                'project_name': 'BD',\n",
    "                'project_duration':3,\n",
    "                'project_technology':['excel','powerpoint']\n",
    "            },\n",
    "        }\n",
    "    },\n",
    "    'e5': {\n",
    "        'name':'George',\n",
    "        'department':'Marketing',\n",
    "        'salary':50000,\n",
    "        'skills': ['communication', 'project management', 'team building', 'digital marketing'],\n",
    "        'projects':{\n",
    "            'project4':{\n",
    "                'project_name': 'DM',\n",
    "                'project_duration':9,\n",
    "                'project_technology':['excel','power point','adobe']\n",
    "            }\n",
    "        }\n",
    "    }\n",
    "}\n",
    "pp(employees)"
   ]
  },
  {
   "cell_type": "code",
   "execution_count": null,
   "metadata": {},
   "outputs": [],
   "source": []
  }
 ],
 "metadata": {
  "kernelspec": {
   "display_name": "base",
   "language": "python",
   "name": "python3"
  },
  "language_info": {
   "codemirror_mode": {
    "name": "ipython",
    "version": 3
   },
   "file_extension": ".py",
   "mimetype": "text/x-python",
   "name": "python",
   "nbconvert_exporter": "python",
   "pygments_lexer": "ipython3",
   "version": "3.10.9"
  },
  "orig_nbformat": 4
 },
 "nbformat": 4,
 "nbformat_minor": 2
}
